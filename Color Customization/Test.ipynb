{
 "cells": [
  {
   "cell_type": "code",
   "execution_count": 1,
   "id": "a9ed0c51",
   "metadata": {},
   "outputs": [],
   "source": [
    "import pandas as pd\n",
    "import numpy as np"
   ]
  },
  {
   "cell_type": "code",
   "execution_count": 4,
   "id": "1ddcbb0d",
   "metadata": {},
   "outputs": [
    {
     "name": "stderr",
     "output_type": "stream",
     "text": [
      "C:\\Users\\G M RIFAT REZA\\AppData\\Local\\Temp\\ipykernel_22704\\1090561119.py:1: DtypeWarning: Columns (22,23,24,25,26,27,28,29,30,31,32,33,34,35,36,37,38,39,40,41,42,43,44,45,46,47,48,49,50,51,52,53,54,55,56,57,58,59,60,61,62,63,64,65,66,67,68,69,70,71,72,73,74,75,76,77,78,79,80,81,82,83,84,85,86,87,88,89,90,91,92,93,94,95,96,97,98,99,100,101,102,103,104,105,106,107,108,109,110,111,112,113,114,115,116,117,118,119,120,121,122,123,124,125,126,127,128,129,130,131,132,133,134,135,136,137,138) have mixed types. Specify dtype option on import or set low_memory=False.\n",
      "  df = pd.read_csv('fake_or_real_news.csv')\n"
     ]
    }
   ],
   "source": [
    "\n",
    "df = pd.read_csv('fake_or_real_news.csv')"
   ]
  },
  {
   "cell_type": "code",
   "execution_count": null,
   "id": "c41e0d40",
   "metadata": {},
   "outputs": [
    {
     "ename": "_IncompleteInputError",
     "evalue": "incomplete input (3712687365.py, line 1)",
     "output_type": "error",
     "traceback": [
      "\u001b[1;36m  Cell \u001b[1;32mIn[5], line 1\u001b[1;36m\u001b[0m\n\u001b[1;33m    def my_func():\u001b[0m\n\u001b[1;37m                  ^\u001b[0m\n\u001b[1;31m_IncompleteInputError\u001b[0m\u001b[1;31m:\u001b[0m incomplete input\n"
     ]
    }
   ],
   "source": [
    "class my_class():\n",
    "    x = \n",
    "    def my_func():\n",
    "        for i in range(5)\n",
    "    \n",
    "    \n",
    "x = "
   ]
  },
  {
   "cell_type": "code",
   "execution_count": null,
   "id": "be7ff1ac",
   "metadata": {},
   "outputs": [],
   "source": [
    "df.shape "
   ]
  },
  {
   "cell_type": "code",
   "execution_count": null,
   "id": "33eb37b6",
   "metadata": {},
   "outputs": [],
   "source": [
    "# Importing a module\n",
    "import math\n",
    "import datetime as dt\n",
    "\n",
    "# Global variable\n",
    "pi_value = math.pi\n",
    "today_date = dt.date.today()\n",
    "\n",
    "# A simple class definition\n",
    "class Circle:\n",
    "    # Class variable\n",
    "    shape_type = \"Round\"\n",
    "\n",
    "    def __init__(self, radius):\n",
    "        # Instance variable\n",
    "        self.radius = radius\n",
    "    \n",
    "    # Method\n",
    "    def area(self):\n",
    "        return math.pi * (self.radius ** 2)\n",
    "    \n",
    "    # Class method\n",
    "    @classmethod\n",
    "    def describe(cls):\n",
    "        return f\"A {cls.shape_type} shape with an area formula πr².\"\n",
    "    \n",
    "    # Static method\n",
    "    @staticmethod\n",
    "    def is_shape_round():\n",
    "        return True\n",
    "\n",
    "\n",
    "# A standalone function\n",
    "def greeting(name: str = \"Reza\") -> str:\n",
    "    \"\"\"Return a greeting message.\"\"\"\n",
    "    return f\"Hello, {name}! Today is {today_date}.\"\n",
    "\n",
    "\n",
    "# A list comprehension and dictionary example\n",
    "radii = [1, 2, 3]\n",
    "areas = {r: Circle(r).area() for r in radii}\n",
    "\n",
    "# Conditional logic\n",
    "for r, a in areas.items():\n",
    "    if a > 10:\n",
    "        print(f\"Circle with radius {r} has large area: {a:.2f}\")\n",
    "    else:\n",
    "        print(f\"Circle with radius {r} has small area: {a:.2f}\")\n",
    "\n",
    "# Working with strings, numbers, and attributes\n",
    "message = greeting()\n",
    "print(message.upper())\n",
    "print(f\"Rounded value of π: {round(pi_value, 3)}\")\n",
    "print(\"Is shape round?\", Circle.is_shape_round())\n",
    "\n",
    "# Using try-except block\n",
    "try:\n",
    "    invalid = 10 / 0\n",
    "except ZeroDivisionError as e:\n",
    "    print(\"Error occurred:\", e)\n",
    "finally:\n",
    "    print(\"Execution complete ✅\")\n"
   ]
  }
 ],
 "metadata": {
  "kernelspec": {
   "display_name": "base",
   "language": "python",
   "name": "python3"
  },
  "language_info": {
   "codemirror_mode": {
    "name": "ipython",
    "version": 3
   },
   "file_extension": ".py",
   "mimetype": "text/x-python",
   "name": "python",
   "nbconvert_exporter": "python",
   "pygments_lexer": "ipython3",
   "version": "3.13.5"
  }
 },
 "nbformat": 4,
 "nbformat_minor": 5
}
