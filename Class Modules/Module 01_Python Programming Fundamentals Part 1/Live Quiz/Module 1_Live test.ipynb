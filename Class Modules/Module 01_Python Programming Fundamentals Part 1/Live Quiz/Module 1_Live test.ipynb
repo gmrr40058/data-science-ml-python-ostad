{
 "cells": [
  {
   "cell_type": "code",
   "execution_count": 22,
   "id": "d777fd8f",
   "metadata": {},
   "outputs": [
    {
     "name": "stdout",
     "output_type": "stream",
     "text": [
      "D\n"
     ]
    }
   ],
   "source": [
    "#This is a simple program to convert a number in marks to a grade.\n",
    "#It takes a integer number from 0 to 100 and returns a grade based on the number\n",
    "grade = int(input(\"Enter your number in marks(0 to 100): \"))\n",
    "\n",
    "if grade <= 100 and grade >= 90:\n",
    "    print(\"A\")\n",
    "elif grade < 90 and grade >= 80:\n",
    "    print(\"B\")\n",
    "elif grade < 80 and grade >= 70:\n",
    "    print(\"C\")\n",
    "elif grade < 70 and grade >= 60:\n",
    "    print(\"D\")\n",
    "elif grade < 60 and grade >= 50:\n",
    "    print(\"E\")\n",
    "elif grade < 50 and grade >= 40:\n",
    "    print(\"E-\")\n",
    "elif grade < 40: # grade < 40 and grade >= 0:. Should more precise the range. This time F will be printed for negetive numbers as well.\n",
    "    print(\"F\")\n",
    "# else:\n",
    "#     print(\"You have entered an invalid number. Please enter a number from 0 to 100.\")\n",
    "    "
   ]
  }
 ],
 "metadata": {
  "kernelspec": {
   "display_name": "Python 3",
   "language": "python",
   "name": "python3"
  },
  "language_info": {
   "codemirror_mode": {
    "name": "ipython",
    "version": 3
   },
   "file_extension": ".py",
   "mimetype": "text/x-python",
   "name": "python",
   "nbconvert_exporter": "python",
   "pygments_lexer": "ipython3",
   "version": "3.13.5"
  }
 },
 "nbformat": 4,
 "nbformat_minor": 5
}
