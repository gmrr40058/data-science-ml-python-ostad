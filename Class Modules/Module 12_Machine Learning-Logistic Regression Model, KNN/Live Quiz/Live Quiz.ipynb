{
 "cells": [
  {
   "cell_type": "code",
   "execution_count": null,
   "metadata": {},
   "outputs": [],
   "source": [
    "import pandas as pd\n",
    "from sklearn.neighbors import KNeighborsClassifier"
   ]
  },
  {
   "cell_type": "code",
   "execution_count": null,
   "id": "565d4d13",
   "metadata": {},
   "outputs": [],
   "source": [
    "import pandas as pd\n",
    "from sklearn.neighbors import KNeighborsClassifier\n",
    "\n",
    "X = df[['Cd_1','Cd_2','Cd_3','Cd_4','Cd_5','Cd_6','Cd_7','Cd_8','Cd_9','Cd_10']]\n",
    "y = df['Result']\n",
    "\n",
    "knn_model = KNeighborsClassifier(n_neighbors=3)\n",
    "\n",
    "\n",
    "knn_model.fit(X, y)\n",
    "\n",
    "predictions = knn_model.predict(X)\n",
    "\n",
    "print(predictions)"
   ]
  }
 ],
 "metadata": {
  "kernelspec": {
   "display_name": "base",
   "language": "python",
   "name": "python3"
  },
  "language_info": {
   "name": "python",
   "version": "3.13.5"
  }
 },
 "nbformat": 4,
 "nbformat_minor": 5
}
