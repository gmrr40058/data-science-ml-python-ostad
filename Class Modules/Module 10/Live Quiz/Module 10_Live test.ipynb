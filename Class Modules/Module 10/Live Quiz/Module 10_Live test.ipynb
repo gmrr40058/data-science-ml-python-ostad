{
 "cells": [
  {
   "cell_type": "code",
   "execution_count": 6,
   "id": "d9eafb9a",
   "metadata": {},
   "outputs": [
    {
     "name": "stdout",
     "output_type": "stream",
     "text": [
      "Accuracy = 0.5\n",
      "Precision = 0.571\n",
      "Recall = 0.667\n",
      "F1 = 0.615\n"
     ]
    }
   ],
   "source": [
    "from sklearn.metrics import accuracy_score, precision_score, recall_score, f1_score\n",
    "\n",
    "Total = 20\n",
    "Accurate = 10\n",
    "TP = 8\n",
    "FP = 6\n",
    "FN = 4\n",
    "\n",
    "TN = Accurate - TP\n",
    "total_Positive = TP + FN\n",
    "total_Negative = TN + FP\n",
    "\n",
    "y_true = [1]*total_Positive + [0]*total_Negative\n",
    "y_pred = [1]*TP + [0]*FN + [1]*FP + [0]*TN\n",
    "\n",
    "accuracy = accuracy_score(y_true, y_pred)\n",
    "precision = precision_score(y_true, y_pred)\n",
    "recall = recall_score(y_true, y_pred)\n",
    "f1 = f1_score(y_true, y_pred)\n",
    "\n",
    "# Print results\n",
    "print(\"Accuracy =\", round(accuracy, 3))\n",
    "print(\"Precision =\", round(precision, 3))\n",
    "print(\"Recall =\", round(recall, 3))\n",
    "print(\"F1 =\", round(f1, 3))\n"
   ]
  },
  {
   "cell_type": "code",
   "execution_count": 4,
   "id": "83c3cc8a",
   "metadata": {},
   "outputs": [
    {
     "name": "stdout",
     "output_type": "stream",
     "text": [
      "Accuracy = 0.5\n",
      "Precision = 0.571\n",
      "Recall = 0.667\n",
      "F1 = 0.615\n"
     ]
    }
   ],
   "source": [
    "Total = 20\n",
    "Accurate = 10\n",
    "TP = 8\n",
    "FP = 6\n",
    "FN = 4\n",
    "\n",
    "TN = Accurate - TP\n",
    "\n",
    "accuracy = (TP + TN) / Total\n",
    "precision = TP / (TP + FP)\n",
    "recall = TP / (TP + FN)\n",
    "f1 = 2 * (precision * recall) / (precision + recall)\n",
    "\n",
    "print(\"Accuracy =\", round(accuracy, 3))\n",
    "print(\"Precision =\", round(precision, 3))\n",
    "print(\"Recall =\", round(recall, 3))\n",
    "print(\"F1 =\", round(f1, 3))\n"
   ]
  }
 ],
 "metadata": {
  "kernelspec": {
   "display_name": "base",
   "language": "python",
   "name": "python3"
  },
  "language_info": {
   "codemirror_mode": {
    "name": "ipython",
    "version": 3
   },
   "file_extension": ".py",
   "mimetype": "text/x-python",
   "name": "python",
   "nbconvert_exporter": "python",
   "pygments_lexer": "ipython3",
   "version": "3.13.5"
  }
 },
 "nbformat": 4,
 "nbformat_minor": 5
}
