{
 "cells": [
  {
   "cell_type": "code",
   "execution_count": null,
   "id": "65f1d5fd-0258-4148-b8be-7f432aac541c",
   "metadata": {},
   "outputs": [],
   "source": [
    "# Numpy Attributes and Advanced Pandas Operations\n",
    "\n",
    "# টপিক:\n",
    "\n",
    "# Data Cleaning with Pandas\n",
    "# Handling Missing Data\n",
    "# Dropping and Filling Data\n",
    "# Basic Data Aggregations in Pandas (sum(), mean(), median(), count())"
   ]
  },
  {
   "cell_type": "code",
   "execution_count": 1,
   "id": "32ec5a82-2852-4d66-8e33-edeae650be1c",
   "metadata": {},
   "outputs": [],
   "source": [
    "import pandas as pd\n",
    "import numpy as np"
   ]
  },
  {
   "cell_type": "code",
   "execution_count": 131,
   "id": "1b19d637-ef4c-4aec-84a3-ab7b67ed4ace",
   "metadata": {},
   "outputs": [],
   "source": [
    "df = pd.DataFrame({\n",
    "    'Name': ['Alice', 'Bob', np.nan, 'Daisy', 'Ethan'],\n",
    "    'Age': [25, np.nan, 29, 22, np.nan],\n",
    "    'salary': [50000, 60000, np.nan, 58000, 62000]\n",
    "})"
   ]
  },
  {
   "cell_type": "code",
   "execution_count": 132,
   "id": "02b843d0-db9e-48c7-b9f0-44af75aebc61",
   "metadata": {},
   "outputs": [
    {
     "data": {
      "text/html": [
       "<div>\n",
       "<style scoped>\n",
       "    .dataframe tbody tr th:only-of-type {\n",
       "        vertical-align: middle;\n",
       "    }\n",
       "\n",
       "    .dataframe tbody tr th {\n",
       "        vertical-align: top;\n",
       "    }\n",
       "\n",
       "    .dataframe thead th {\n",
       "        text-align: right;\n",
       "    }\n",
       "</style>\n",
       "<table border=\"1\" class=\"dataframe\">\n",
       "  <thead>\n",
       "    <tr style=\"text-align: right;\">\n",
       "      <th></th>\n",
       "      <th>Name</th>\n",
       "      <th>Age</th>\n",
       "      <th>salary</th>\n",
       "    </tr>\n",
       "  </thead>\n",
       "  <tbody>\n",
       "    <tr>\n",
       "      <th>0</th>\n",
       "      <td>Alice</td>\n",
       "      <td>25.0</td>\n",
       "      <td>50000.0</td>\n",
       "    </tr>\n",
       "    <tr>\n",
       "      <th>1</th>\n",
       "      <td>Bob</td>\n",
       "      <td>NaN</td>\n",
       "      <td>60000.0</td>\n",
       "    </tr>\n",
       "    <tr>\n",
       "      <th>2</th>\n",
       "      <td>NaN</td>\n",
       "      <td>29.0</td>\n",
       "      <td>NaN</td>\n",
       "    </tr>\n",
       "    <tr>\n",
       "      <th>3</th>\n",
       "      <td>Daisy</td>\n",
       "      <td>22.0</td>\n",
       "      <td>58000.0</td>\n",
       "    </tr>\n",
       "    <tr>\n",
       "      <th>4</th>\n",
       "      <td>Ethan</td>\n",
       "      <td>NaN</td>\n",
       "      <td>62000.0</td>\n",
       "    </tr>\n",
       "  </tbody>\n",
       "</table>\n",
       "</div>"
      ],
      "text/plain": [
       "    Name   Age   salary\n",
       "0  Alice  25.0  50000.0\n",
       "1    Bob   NaN  60000.0\n",
       "2    NaN  29.0      NaN\n",
       "3  Daisy  22.0  58000.0\n",
       "4  Ethan   NaN  62000.0"
      ]
     },
     "execution_count": 132,
     "metadata": {},
     "output_type": "execute_result"
    }
   ],
   "source": [
    "df.head()"
   ]
  },
  {
   "cell_type": "code",
   "execution_count": 6,
   "id": "d3205dfa-82a1-472c-b65c-21e28f3cbe12",
   "metadata": {},
   "outputs": [],
   "source": [
    "df = data.dropna()"
   ]
  },
  {
   "cell_type": "code",
   "execution_count": 7,
   "id": "c59522d8-9d54-40f4-88d9-1efa503c5eed",
   "metadata": {},
   "outputs": [
    {
     "data": {
      "text/html": [
       "<div>\n",
       "<style scoped>\n",
       "    .dataframe tbody tr th:only-of-type {\n",
       "        vertical-align: middle;\n",
       "    }\n",
       "\n",
       "    .dataframe tbody tr th {\n",
       "        vertical-align: top;\n",
       "    }\n",
       "\n",
       "    .dataframe thead th {\n",
       "        text-align: right;\n",
       "    }\n",
       "</style>\n",
       "<table border=\"1\" class=\"dataframe\">\n",
       "  <thead>\n",
       "    <tr style=\"text-align: right;\">\n",
       "      <th></th>\n",
       "      <th>Name</th>\n",
       "      <th>Age</th>\n",
       "      <th>salary</th>\n",
       "    </tr>\n",
       "  </thead>\n",
       "  <tbody>\n",
       "    <tr>\n",
       "      <th>0</th>\n",
       "      <td>Alice</td>\n",
       "      <td>25.0</td>\n",
       "      <td>50000.0</td>\n",
       "    </tr>\n",
       "    <tr>\n",
       "      <th>3</th>\n",
       "      <td>Daisy</td>\n",
       "      <td>22.0</td>\n",
       "      <td>58000.0</td>\n",
       "    </tr>\n",
       "  </tbody>\n",
       "</table>\n",
       "</div>"
      ],
      "text/plain": [
       "    Name   Age   salary\n",
       "0  Alice  25.0  50000.0\n",
       "3  Daisy  22.0  58000.0"
      ]
     },
     "execution_count": 7,
     "metadata": {},
     "output_type": "execute_result"
    }
   ],
   "source": [
    "data_dropna.head()"
   ]
  },
  {
   "cell_type": "code",
   "execution_count": 95,
   "id": "167901a2-4769-4dea-a1a6-07ae62e247c5",
   "metadata": {},
   "outputs": [],
   "source": [
    "data = data.fillna(\n",
    "    {\n",
    "     'Name': 'Unknown',\n",
    "        'Age': data['Age'].mean(),\n",
    "        'salary': 0\n",
    "    }\n",
    ")"
   ]
  },
  {
   "cell_type": "code",
   "execution_count": 11,
   "id": "fea8b973-2bc9-4d3e-b1f6-8ba6ea7f6a15",
   "metadata": {},
   "outputs": [
    {
     "data": {
      "text/html": [
       "<div>\n",
       "<style scoped>\n",
       "    .dataframe tbody tr th:only-of-type {\n",
       "        vertical-align: middle;\n",
       "    }\n",
       "\n",
       "    .dataframe tbody tr th {\n",
       "        vertical-align: top;\n",
       "    }\n",
       "\n",
       "    .dataframe thead th {\n",
       "        text-align: right;\n",
       "    }\n",
       "</style>\n",
       "<table border=\"1\" class=\"dataframe\">\n",
       "  <thead>\n",
       "    <tr style=\"text-align: right;\">\n",
       "      <th></th>\n",
       "      <th>Name</th>\n",
       "      <th>Age</th>\n",
       "      <th>salary</th>\n",
       "    </tr>\n",
       "  </thead>\n",
       "  <tbody>\n",
       "    <tr>\n",
       "      <th>0</th>\n",
       "      <td>Alice</td>\n",
       "      <td>25.000000</td>\n",
       "      <td>50000.0</td>\n",
       "    </tr>\n",
       "    <tr>\n",
       "      <th>1</th>\n",
       "      <td>Bob</td>\n",
       "      <td>25.333333</td>\n",
       "      <td>60000.0</td>\n",
       "    </tr>\n",
       "    <tr>\n",
       "      <th>2</th>\n",
       "      <td>Unknown</td>\n",
       "      <td>29.000000</td>\n",
       "      <td>0.0</td>\n",
       "    </tr>\n",
       "    <tr>\n",
       "      <th>3</th>\n",
       "      <td>Daisy</td>\n",
       "      <td>22.000000</td>\n",
       "      <td>58000.0</td>\n",
       "    </tr>\n",
       "    <tr>\n",
       "      <th>4</th>\n",
       "      <td>Ethan</td>\n",
       "      <td>25.333333</td>\n",
       "      <td>62000.0</td>\n",
       "    </tr>\n",
       "  </tbody>\n",
       "</table>\n",
       "</div>"
      ],
      "text/plain": [
       "      Name        Age   salary\n",
       "0    Alice  25.000000  50000.0\n",
       "1      Bob  25.333333  60000.0\n",
       "2  Unknown  29.000000      0.0\n",
       "3    Daisy  22.000000  58000.0\n",
       "4    Ethan  25.333333  62000.0"
      ]
     },
     "execution_count": 11,
     "metadata": {},
     "output_type": "execute_result"
    }
   ],
   "source": [
    "data_filled.head()"
   ]
  },
  {
   "cell_type": "code",
   "execution_count": 17,
   "id": "e8f896dd-8e40-47e9-b085-e96a548b567a",
   "metadata": {},
   "outputs": [],
   "source": [
    "data_filled['Age'] = data_filled['Age'].astype(int)\n",
    "data_filled['salary'] = data_filled['salary'].astype(int)"
   ]
  },
  {
   "cell_type": "code",
   "execution_count": 18,
   "id": "d25abf3b-0273-4317-84f3-969adf00e636",
   "metadata": {},
   "outputs": [
    {
     "data": {
      "text/html": [
       "<div>\n",
       "<style scoped>\n",
       "    .dataframe tbody tr th:only-of-type {\n",
       "        vertical-align: middle;\n",
       "    }\n",
       "\n",
       "    .dataframe tbody tr th {\n",
       "        vertical-align: top;\n",
       "    }\n",
       "\n",
       "    .dataframe thead th {\n",
       "        text-align: right;\n",
       "    }\n",
       "</style>\n",
       "<table border=\"1\" class=\"dataframe\">\n",
       "  <thead>\n",
       "    <tr style=\"text-align: right;\">\n",
       "      <th></th>\n",
       "      <th>Name</th>\n",
       "      <th>Age</th>\n",
       "      <th>salary</th>\n",
       "    </tr>\n",
       "  </thead>\n",
       "  <tbody>\n",
       "    <tr>\n",
       "      <th>0</th>\n",
       "      <td>Alice</td>\n",
       "      <td>25</td>\n",
       "      <td>50000</td>\n",
       "    </tr>\n",
       "    <tr>\n",
       "      <th>1</th>\n",
       "      <td>Bob</td>\n",
       "      <td>25</td>\n",
       "      <td>60000</td>\n",
       "    </tr>\n",
       "    <tr>\n",
       "      <th>2</th>\n",
       "      <td>Unknown</td>\n",
       "      <td>29</td>\n",
       "      <td>0</td>\n",
       "    </tr>\n",
       "    <tr>\n",
       "      <th>3</th>\n",
       "      <td>Daisy</td>\n",
       "      <td>22</td>\n",
       "      <td>58000</td>\n",
       "    </tr>\n",
       "    <tr>\n",
       "      <th>4</th>\n",
       "      <td>Ethan</td>\n",
       "      <td>25</td>\n",
       "      <td>62000</td>\n",
       "    </tr>\n",
       "  </tbody>\n",
       "</table>\n",
       "</div>"
      ],
      "text/plain": [
       "      Name  Age  salary\n",
       "0    Alice   25   50000\n",
       "1      Bob   25   60000\n",
       "2  Unknown   29       0\n",
       "3    Daisy   22   58000\n",
       "4    Ethan   25   62000"
      ]
     },
     "execution_count": 18,
     "metadata": {},
     "output_type": "execute_result"
    }
   ],
   "source": [
    "data_filled.head()\n"
   ]
  },
  {
   "cell_type": "code",
   "execution_count": 21,
   "id": "e8e6b1c1-af9a-4e42-8e4e-c8912c961d55",
   "metadata": {},
   "outputs": [],
   "source": [
    "np_array = np.array([[1, 2, 3], [4, 5, 6]])"
   ]
  },
  {
   "cell_type": "code",
   "execution_count": 22,
   "id": "5b2ebcdc-c23a-48e5-80e4-ad645b39bb32",
   "metadata": {},
   "outputs": [
    {
     "data": {
      "text/plain": [
       "array([[1, 2, 3],\n",
       "       [4, 5, 6]])"
      ]
     },
     "execution_count": 22,
     "metadata": {},
     "output_type": "execute_result"
    }
   ],
   "source": [
    "np_array"
   ]
  },
  {
   "cell_type": "code",
   "execution_count": 23,
   "id": "c3902aa2-5a25-4a2e-a0fc-8700027193dc",
   "metadata": {},
   "outputs": [],
   "source": [
    "reshape_array = np_array.reshape(3, 2)"
   ]
  },
  {
   "cell_type": "code",
   "execution_count": 24,
   "id": "e954201c-b16e-4634-adf3-6bd70d5469ec",
   "metadata": {},
   "outputs": [
    {
     "data": {
      "text/plain": [
       "array([[1, 2],\n",
       "       [3, 4],\n",
       "       [5, 6]])"
      ]
     },
     "execution_count": 24,
     "metadata": {},
     "output_type": "execute_result"
    }
   ],
   "source": [
    "reshape_array"
   ]
  },
  {
   "cell_type": "code",
   "execution_count": 25,
   "id": "7356ddbc-c30f-4643-99c2-8cb66da44c9f",
   "metadata": {},
   "outputs": [],
   "source": [
    "reshape_array = np_array.reshape(-1)"
   ]
  },
  {
   "cell_type": "code",
   "execution_count": 26,
   "id": "a0ca6a4a-c068-4700-b977-e642c92d40ec",
   "metadata": {},
   "outputs": [
    {
     "data": {
      "text/plain": [
       "array([1, 2, 3, 4, 5, 6])"
      ]
     },
     "execution_count": 26,
     "metadata": {},
     "output_type": "execute_result"
    }
   ],
   "source": [
    "reshape_array"
   ]
  },
  {
   "cell_type": "code",
   "execution_count": 28,
   "id": "b869361e-6577-428c-84a3-44e53e43524b",
   "metadata": {},
   "outputs": [],
   "source": [
    "reshape_array = np_array.reshape(1, 6)"
   ]
  },
  {
   "cell_type": "code",
   "execution_count": 29,
   "id": "0fbe68e8-77e6-45f9-b005-74cd1015f0f0",
   "metadata": {},
   "outputs": [
    {
     "data": {
      "text/plain": [
       "array([[1, 2, 3, 4, 5, 6]])"
      ]
     },
     "execution_count": 29,
     "metadata": {},
     "output_type": "execute_result"
    }
   ],
   "source": [
    "reshape_array"
   ]
  },
  {
   "cell_type": "code",
   "execution_count": 30,
   "id": "bb28ada6-664f-4b09-a56d-c19f4a135295",
   "metadata": {},
   "outputs": [
    {
     "data": {
      "text/plain": [
       "array([1, 2, 3, 4, 5, 6])"
      ]
     },
     "execution_count": 30,
     "metadata": {},
     "output_type": "execute_result"
    }
   ],
   "source": [
    "reshape_array[0]"
   ]
  },
  {
   "cell_type": "code",
   "execution_count": 47,
   "id": "7445938a-9a5e-4618-98c2-b3ddd63a646b",
   "metadata": {},
   "outputs": [],
   "source": [
    "a = np.array([[1, 2], [3, 4]])\n",
    "b = np.array([[5, 6], [7, 8]])"
   ]
  },
  {
   "cell_type": "code",
   "execution_count": 48,
   "id": "82dd0243-7938-4b02-9ffa-22cd6bfe986f",
   "metadata": {},
   "outputs": [
    {
     "data": {
      "text/plain": [
       "array([[1, 2],\n",
       "       [3, 4]])"
      ]
     },
     "execution_count": 48,
     "metadata": {},
     "output_type": "execute_result"
    }
   ],
   "source": [
    "a"
   ]
  },
  {
   "cell_type": "code",
   "execution_count": 49,
   "id": "3bf81e34-bc4b-462b-b42f-1986b6b78199",
   "metadata": {},
   "outputs": [
    {
     "data": {
      "text/plain": [
       "array([[5, 6],\n",
       "       [7, 8]])"
      ]
     },
     "execution_count": 49,
     "metadata": {},
     "output_type": "execute_result"
    }
   ],
   "source": [
    "b"
   ]
  },
  {
   "cell_type": "code",
   "execution_count": 54,
   "id": "671ec344-043c-453f-9b38-fbdc2966e8bc",
   "metadata": {},
   "outputs": [
    {
     "data": {
      "text/plain": [
       "array([[[1, 5],\n",
       "        [2, 6]],\n",
       "\n",
       "       [[3, 7],\n",
       "        [4, 8]]])"
      ]
     },
     "execution_count": 54,
     "metadata": {},
     "output_type": "execute_result"
    }
   ],
   "source": [
    "d_stacked"
   ]
  },
  {
   "cell_type": "code",
   "execution_count": 43,
   "id": "5a834c8e-7a59-493c-b973-034c0a267f5d",
   "metadata": {},
   "outputs": [],
   "source": [
    "v_stacked = np.vstack([a, b])"
   ]
  },
  {
   "cell_type": "code",
   "execution_count": 35,
   "id": "9bfa3c63-315c-4f2f-8d0e-2155ed7fe8e9",
   "metadata": {},
   "outputs": [
    {
     "data": {
      "text/plain": [
       "array([[1, 2],\n",
       "       [3, 4],\n",
       "       [5, 6]])"
      ]
     },
     "execution_count": 35,
     "metadata": {},
     "output_type": "execute_result"
    }
   ],
   "source": [
    "v_stacked"
   ]
  },
  {
   "cell_type": "code",
   "execution_count": 50,
   "id": "4eca2121-acc4-4da4-b84c-fbfc72f5b9e1",
   "metadata": {},
   "outputs": [],
   "source": [
    "h_stacked = np.hstack([a, b])"
   ]
  },
  {
   "cell_type": "code",
   "execution_count": 51,
   "id": "aab5d005-4b62-44f3-8e7a-43d6a9d873d3",
   "metadata": {},
   "outputs": [
    {
     "data": {
      "text/plain": [
       "array([[1, 2, 5, 6],\n",
       "       [3, 4, 7, 8]])"
      ]
     },
     "execution_count": 51,
     "metadata": {},
     "output_type": "execute_result"
    }
   ],
   "source": [
    "h_stacked"
   ]
  },
  {
   "cell_type": "code",
   "execution_count": 52,
   "id": "3408281c-9b0f-471a-b78f-06b726f1a03b",
   "metadata": {},
   "outputs": [],
   "source": [
    "d_stacked = np.dstack([a, b])"
   ]
  },
  {
   "cell_type": "code",
   "execution_count": 53,
   "id": "6cc4960a-6c05-4e47-977b-2ad49b8bde26",
   "metadata": {},
   "outputs": [
    {
     "data": {
      "text/plain": [
       "array([[[1, 5],\n",
       "        [2, 6]],\n",
       "\n",
       "       [[3, 7],\n",
       "        [4, 8]]])"
      ]
     },
     "execution_count": 53,
     "metadata": {},
     "output_type": "execute_result"
    }
   ],
   "source": [
    "d_stacked"
   ]
  },
  {
   "cell_type": "code",
   "execution_count": 57,
   "id": "49282db5-35fa-41ba-9837-c83348c8debb",
   "metadata": {},
   "outputs": [],
   "source": [
    "np_array = np.array([[[1,2, 4, 6], [2, 4, 5, 6]], [[5,6, 6, 7], [7, 8, 6, 7]]])"
   ]
  },
  {
   "cell_type": "code",
   "execution_count": 58,
   "id": "d9269772-3bec-4b8e-a9a3-0d9d56827c37",
   "metadata": {},
   "outputs": [
    {
     "data": {
      "text/plain": [
       "array([[[1, 2, 4, 6],\n",
       "        [2, 4, 5, 6]],\n",
       "\n",
       "       [[5, 6, 6, 7],\n",
       "        [7, 8, 6, 7]]])"
      ]
     },
     "execution_count": 58,
     "metadata": {},
     "output_type": "execute_result"
    }
   ],
   "source": [
    "np_array"
   ]
  },
  {
   "cell_type": "code",
   "execution_count": 60,
   "id": "54246655-6e9e-4c5a-9bdd-c527ae8d2588",
   "metadata": {},
   "outputs": [],
   "source": [
    "big_array = np.arange(10)"
   ]
  },
  {
   "cell_type": "code",
   "execution_count": 61,
   "id": "bb560085-d19c-4b24-9b85-f691a2bd2d82",
   "metadata": {},
   "outputs": [
    {
     "data": {
      "text/plain": [
       "array([0, 1, 2, 3, 4, 5, 6, 7, 8, 9])"
      ]
     },
     "execution_count": 61,
     "metadata": {},
     "output_type": "execute_result"
    }
   ],
   "source": [
    "big_array"
   ]
  },
  {
   "cell_type": "code",
   "execution_count": 67,
   "id": "f41fe9b8-59de-4560-9d8f-90886bc68df7",
   "metadata": {},
   "outputs": [],
   "source": [
    "split_array = np.split(big_array, 5)"
   ]
  },
  {
   "cell_type": "code",
   "execution_count": 68,
   "id": "eb11d214-98ff-48e9-8079-1b84a3cde9c8",
   "metadata": {},
   "outputs": [
    {
     "data": {
      "text/plain": [
       "[array([0, 1]), array([2, 3]), array([4, 5]), array([6, 7]), array([8, 9])]"
      ]
     },
     "execution_count": 68,
     "metadata": {},
     "output_type": "execute_result"
    }
   ],
   "source": [
    "split_array"
   ]
  },
  {
   "cell_type": "code",
   "execution_count": 64,
   "id": "41259d23-0d1b-4640-9b72-5be2d158a567",
   "metadata": {},
   "outputs": [
    {
     "data": {
      "text/plain": [
       "array([0, 1, 2, 3, 4])"
      ]
     },
     "execution_count": 64,
     "metadata": {},
     "output_type": "execute_result"
    }
   ],
   "source": [
    "split_array[0]"
   ]
  },
  {
   "cell_type": "code",
   "execution_count": 65,
   "id": "e494bd27-b28c-4c6d-810f-d92f81465e26",
   "metadata": {},
   "outputs": [
    {
     "data": {
      "text/plain": [
       "array([5, 6, 7, 8, 9])"
      ]
     },
     "execution_count": 65,
     "metadata": {},
     "output_type": "execute_result"
    }
   ],
   "source": [
    "split_array[1]"
   ]
  },
  {
   "cell_type": "code",
   "execution_count": 69,
   "id": "26c49fdf-f18b-4f91-9dbe-5c1c50bf5e21",
   "metadata": {},
   "outputs": [],
   "source": [
    "sorted_array = np.array([10, 20, 30, 40])"
   ]
  },
  {
   "cell_type": "code",
   "execution_count": 72,
   "id": "01488294-22d6-4180-847b-3a2b19fa50c1",
   "metadata": {},
   "outputs": [],
   "source": [
    "pos = np.searchsorted(sorted_array, 15)"
   ]
  },
  {
   "cell_type": "code",
   "execution_count": 73,
   "id": "43573771-db1e-448a-b0c1-819a03480163",
   "metadata": {},
   "outputs": [
    {
     "data": {
      "text/plain": [
       "np.int64(1)"
      ]
     },
     "execution_count": 73,
     "metadata": {},
     "output_type": "execute_result"
    }
   ],
   "source": [
    "pos"
   ]
  },
  {
   "cell_type": "code",
   "execution_count": 87,
   "id": "d067ccb0-4611-43b4-9fc6-07a1cf2032c1",
   "metadata": {},
   "outputs": [],
   "source": [
    "sorted_array = np.array([101, 200, 30, 41])"
   ]
  },
  {
   "cell_type": "code",
   "execution_count": 88,
   "id": "aabb8d2d-1226-434c-a444-53550872bf07",
   "metadata": {},
   "outputs": [],
   "source": [
    "even = np.where(sorted_array % 2 == 0)"
   ]
  },
  {
   "cell_type": "code",
   "execution_count": 89,
   "id": "c2c5092e-c201-452b-872a-17d6978a6c52",
   "metadata": {},
   "outputs": [
    {
     "data": {
      "text/plain": [
       "(array([1, 2]),)"
      ]
     },
     "execution_count": 89,
     "metadata": {},
     "output_type": "execute_result"
    }
   ],
   "source": [
    "even"
   ]
  },
  {
   "cell_type": "code",
   "execution_count": 96,
   "id": "47497f23-c364-4f6a-87c0-60aea65a15b4",
   "metadata": {},
   "outputs": [
    {
     "data": {
      "text/html": [
       "<div>\n",
       "<style scoped>\n",
       "    .dataframe tbody tr th:only-of-type {\n",
       "        vertical-align: middle;\n",
       "    }\n",
       "\n",
       "    .dataframe tbody tr th {\n",
       "        vertical-align: top;\n",
       "    }\n",
       "\n",
       "    .dataframe thead th {\n",
       "        text-align: right;\n",
       "    }\n",
       "</style>\n",
       "<table border=\"1\" class=\"dataframe\">\n",
       "  <thead>\n",
       "    <tr style=\"text-align: right;\">\n",
       "      <th></th>\n",
       "      <th>Name</th>\n",
       "      <th>Age</th>\n",
       "      <th>salary</th>\n",
       "    </tr>\n",
       "  </thead>\n",
       "  <tbody>\n",
       "    <tr>\n",
       "      <th>0</th>\n",
       "      <td>Alice</td>\n",
       "      <td>25.000000</td>\n",
       "      <td>50000.0</td>\n",
       "    </tr>\n",
       "    <tr>\n",
       "      <th>1</th>\n",
       "      <td>Bob</td>\n",
       "      <td>25.333333</td>\n",
       "      <td>60000.0</td>\n",
       "    </tr>\n",
       "    <tr>\n",
       "      <th>2</th>\n",
       "      <td>Unknown</td>\n",
       "      <td>29.000000</td>\n",
       "      <td>0.0</td>\n",
       "    </tr>\n",
       "    <tr>\n",
       "      <th>3</th>\n",
       "      <td>Daisy</td>\n",
       "      <td>22.000000</td>\n",
       "      <td>58000.0</td>\n",
       "    </tr>\n",
       "    <tr>\n",
       "      <th>4</th>\n",
       "      <td>Ethan</td>\n",
       "      <td>25.333333</td>\n",
       "      <td>62000.0</td>\n",
       "    </tr>\n",
       "  </tbody>\n",
       "</table>\n",
       "</div>"
      ],
      "text/plain": [
       "      Name        Age   salary\n",
       "0    Alice  25.000000  50000.0\n",
       "1      Bob  25.333333  60000.0\n",
       "2  Unknown  29.000000      0.0\n",
       "3    Daisy  22.000000  58000.0\n",
       "4    Ethan  25.333333  62000.0"
      ]
     },
     "execution_count": 96,
     "metadata": {},
     "output_type": "execute_result"
    }
   ],
   "source": [
    "data.head()"
   ]
  },
  {
   "cell_type": "code",
   "execution_count": 97,
   "id": "773fe8fa-a9c5-44a0-8152-d29dfd676983",
   "metadata": {},
   "outputs": [],
   "source": [
    "sorted_data = data.sort_values(by='salary', ascending=True)"
   ]
  },
  {
   "cell_type": "code",
   "execution_count": 98,
   "id": "82bd2549-a89c-4f3a-8d64-d30aef3a1161",
   "metadata": {},
   "outputs": [
    {
     "data": {
      "text/html": [
       "<div>\n",
       "<style scoped>\n",
       "    .dataframe tbody tr th:only-of-type {\n",
       "        vertical-align: middle;\n",
       "    }\n",
       "\n",
       "    .dataframe tbody tr th {\n",
       "        vertical-align: top;\n",
       "    }\n",
       "\n",
       "    .dataframe thead th {\n",
       "        text-align: right;\n",
       "    }\n",
       "</style>\n",
       "<table border=\"1\" class=\"dataframe\">\n",
       "  <thead>\n",
       "    <tr style=\"text-align: right;\">\n",
       "      <th></th>\n",
       "      <th>Name</th>\n",
       "      <th>Age</th>\n",
       "      <th>salary</th>\n",
       "    </tr>\n",
       "  </thead>\n",
       "  <tbody>\n",
       "    <tr>\n",
       "      <th>2</th>\n",
       "      <td>Unknown</td>\n",
       "      <td>29.000000</td>\n",
       "      <td>0.0</td>\n",
       "    </tr>\n",
       "    <tr>\n",
       "      <th>0</th>\n",
       "      <td>Alice</td>\n",
       "      <td>25.000000</td>\n",
       "      <td>50000.0</td>\n",
       "    </tr>\n",
       "    <tr>\n",
       "      <th>3</th>\n",
       "      <td>Daisy</td>\n",
       "      <td>22.000000</td>\n",
       "      <td>58000.0</td>\n",
       "    </tr>\n",
       "    <tr>\n",
       "      <th>1</th>\n",
       "      <td>Bob</td>\n",
       "      <td>25.333333</td>\n",
       "      <td>60000.0</td>\n",
       "    </tr>\n",
       "    <tr>\n",
       "      <th>4</th>\n",
       "      <td>Ethan</td>\n",
       "      <td>25.333333</td>\n",
       "      <td>62000.0</td>\n",
       "    </tr>\n",
       "  </tbody>\n",
       "</table>\n",
       "</div>"
      ],
      "text/plain": [
       "      Name        Age   salary\n",
       "2  Unknown  29.000000      0.0\n",
       "0    Alice  25.000000  50000.0\n",
       "3    Daisy  22.000000  58000.0\n",
       "1      Bob  25.333333  60000.0\n",
       "4    Ethan  25.333333  62000.0"
      ]
     },
     "execution_count": 98,
     "metadata": {},
     "output_type": "execute_result"
    }
   ],
   "source": [
    "sorted_data.head()"
   ]
  },
  {
   "cell_type": "code",
   "execution_count": 109,
   "id": "9dc68013-fce5-4181-b410-87a3556f60e7",
   "metadata": {},
   "outputs": [],
   "source": [
    "arr = np.array([6, 3, 8, 0])"
   ]
  },
  {
   "cell_type": "code",
   "execution_count": 110,
   "id": "ad3aae37-50ec-4130-9ef1-498a6387aace",
   "metadata": {},
   "outputs": [
    {
     "data": {
      "text/plain": [
       "array([6, 3, 8, 0])"
      ]
     },
     "execution_count": 110,
     "metadata": {},
     "output_type": "execute_result"
    }
   ],
   "source": [
    "arr"
   ]
  },
  {
   "cell_type": "code",
   "execution_count": 111,
   "id": "cfe51903-9e11-4026-bf14-1a6333832d28",
   "metadata": {},
   "outputs": [
    {
     "name": "stdout",
     "output_type": "stream",
     "text": [
      "[8 6 3 0]\n"
     ]
    }
   ],
   "source": [
    "print(np.sort(arr)[::-1])"
   ]
  },
  {
   "cell_type": "code",
   "execution_count": 112,
   "id": "418a7858-0f5f-4234-92e0-5c73f8cb99f1",
   "metadata": {},
   "outputs": [],
   "source": [
    "arr = np.array([True, True, False, True])"
   ]
  },
  {
   "cell_type": "code",
   "execution_count": 113,
   "id": "f5be6c6e-9f69-4aa3-820b-2eb82772273a",
   "metadata": {},
   "outputs": [
    {
     "name": "stdout",
     "output_type": "stream",
     "text": [
      "[ True  True  True False]\n"
     ]
    }
   ],
   "source": [
    "print(np.sort(arr)[::-1])"
   ]
  },
  {
   "cell_type": "code",
   "execution_count": 129,
   "id": "313d07a5-ffbb-43c8-aad3-3a9bcf734f4f",
   "metadata": {},
   "outputs": [],
   "source": [
    "arr = np.array([\"Banana\", \"Cherry\", \"Apple\", \"mango\"])"
   ]
  },
  {
   "cell_type": "code",
   "execution_count": 130,
   "id": "b3992705-a6fb-442e-8fc1-753e1e178177",
   "metadata": {},
   "outputs": [
    {
     "name": "stdout",
     "output_type": "stream",
     "text": [
      "['mango' 'Cherry' 'Banana' 'Apple']\n"
     ]
    }
   ],
   "source": [
    "print(np.sort(arr)[::-1])"
   ]
  },
  {
   "cell_type": "code",
   "execution_count": null,
   "id": "0f45b524-f498-4f6a-b504-5df0bfe7c451",
   "metadata": {},
   "outputs": [],
   "source": []
  },
  {
   "cell_type": "code",
   "execution_count": null,
   "id": "16f2fdd1-f75c-4015-8b36-18ca56aacf91",
   "metadata": {},
   "outputs": [],
   "source": []
  },
  {
   "cell_type": "code",
   "execution_count": null,
   "id": "28582c7b-207d-4a61-944e-1fa61ff62faf",
   "metadata": {},
   "outputs": [],
   "source": []
  },
  {
   "cell_type": "code",
   "execution_count": null,
   "id": "e6c0fee3-e422-43ac-a298-b8114c641d22",
   "metadata": {},
   "outputs": [],
   "source": []
  },
  {
   "cell_type": "code",
   "execution_count": null,
   "id": "22ca7f9a-be97-4e37-874d-dedb3f55e62d",
   "metadata": {},
   "outputs": [],
   "source": []
  },
  {
   "cell_type": "code",
   "execution_count": null,
   "id": "06cc7cc8-4616-4b4e-b318-f66ceafb1943",
   "metadata": {},
   "outputs": [],
   "source": []
  },
  {
   "cell_type": "code",
   "execution_count": null,
   "id": "617a8826-bd5a-462a-aae0-648bf639fe7e",
   "metadata": {},
   "outputs": [],
   "source": []
  },
  {
   "cell_type": "code",
   "execution_count": null,
   "id": "87eb88b2-7fcb-4713-927b-5b0a5c4bb7b8",
   "metadata": {},
   "outputs": [],
   "source": []
  }
 ],
 "metadata": {
  "kernelspec": {
   "display_name": "Python 3 (ipykernel)",
   "language": "python",
   "name": "python3"
  },
  "language_info": {
   "codemirror_mode": {
    "name": "ipython",
    "version": 3
   },
   "file_extension": ".py",
   "mimetype": "text/x-python",
   "name": "python",
   "nbconvert_exporter": "python",
   "pygments_lexer": "ipython3",
   "version": "3.12.3"
  }
 },
 "nbformat": 4,
 "nbformat_minor": 5
}
