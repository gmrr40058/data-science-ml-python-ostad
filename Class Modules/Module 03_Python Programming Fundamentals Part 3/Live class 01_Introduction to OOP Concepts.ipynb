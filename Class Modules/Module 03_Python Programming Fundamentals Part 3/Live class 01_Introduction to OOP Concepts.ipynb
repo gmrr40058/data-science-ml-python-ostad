{
 "cells": [
  {
   "cell_type": "code",
   "execution_count": null,
   "id": "3b2d7606",
   "metadata": {},
   "outputs": [],
   "source": [
    "class avengers:\n",
    "    def "
   ]
  },
  {
   "cell_type": "code",
   "execution_count": null,
   "id": "d815b699",
   "metadata": {},
   "outputs": [],
   "source": []
  },
  {
   "cell_type": "code",
   "execution_count": null,
   "id": "cb9f9f5e",
   "metadata": {},
   "outputs": [],
   "source": [
    "class avengers:\n",
    "    def __int__(self):\n",
    "        "
   ]
  },
  {
   "cell_type": "code",
   "execution_count": null,
   "id": "3da5068d",
   "metadata": {},
   "outputs": [],
   "source": []
  }
 ],
 "metadata": {
  "kernelspec": {
   "display_name": "Python 3",
   "language": "python",
   "name": "python3"
  },
  "language_info": {
   "name": "python",
   "version": "3.13.3"
  }
 },
 "nbformat": 4,
 "nbformat_minor": 5
}
