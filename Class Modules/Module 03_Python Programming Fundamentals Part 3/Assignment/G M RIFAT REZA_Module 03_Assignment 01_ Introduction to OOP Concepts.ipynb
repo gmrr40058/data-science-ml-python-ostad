{
 "cells": [
  {
   "cell_type": "markdown",
   "id": "37c7e793",
   "metadata": {
    "vscode": {
     "languageId": "plaintext"
    }
   },
   "source": [
    "**Introduction to OOP Concepts**\n",
    "\n",
    "Create a class Person with attributes name and age. Create an object and display its details.<br>\n",
    "\n",
    "Input: Person(\"Alice\", 25)<br>\n",
    "Output: Name: Alice, Age: 25<br>"
   ]
  },
  {
   "cell_type": "code",
   "execution_count": 1,
   "id": "bbc61451",
   "metadata": {},
   "outputs": [
    {
     "name": "stdout",
     "output_type": "stream",
     "text": [
      "Name: Alice, Age: 25\n"
     ]
    }
   ],
   "source": [
    "class Person:\n",
    "    def __init__(self, name, age):\n",
    "        self.name = name\n",
    "        self.age = age\n",
    "        print(f'Name: {self.name}, Age: {self.age}')\n",
    "        '''If we wanted to, we could also make a method to display the deftails containing the print statement only.\n",
    "         But as there is no mention of such a method in the question, I am keeping it simple. In that case, there is\n",
    "        no hassle of calling the method separately. Just creating the object will print the details.'''\n",
    "\n",
    "# Object creating and calling\n",
    "alice_details = Person(\"Alice\", 25)\n",
    "\n",
    "# We can create more object with different details\n",
    "# my_details = Person('Reza', 24)"
   ]
  },
  {
   "cell_type": "code",
   "execution_count": null,
   "id": "53f947a1",
   "metadata": {},
   "outputs": [],
   "source": []
  }
 ],
 "metadata": {
  "kernelspec": {
   "display_name": "Python 3",
   "language": "python",
   "name": "python3"
  },
  "language_info": {
   "codemirror_mode": {
    "name": "ipython",
    "version": 3
   },
   "file_extension": ".py",
   "mimetype": "text/x-python",
   "name": "python",
   "nbconvert_exporter": "python",
   "pygments_lexer": "ipython3",
   "version": "3.13.3"
  }
 },
 "nbformat": 4,
 "nbformat_minor": 5
}
