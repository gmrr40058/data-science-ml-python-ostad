{
 "cells": [
  {
   "cell_type": "code",
   "execution_count": 1,
   "id": "b4192330-549c-4a93-b548-dbd43c5904f5",
   "metadata": {},
   "outputs": [
    {
     "name": "stdout",
     "output_type": "stream",
     "text": [
      "     Name  Age  Bamboo_Sticks\n",
      "0   Pandy    5             15\n",
      "1  Bamboo    7             20\n",
      "2   Fuzzy    4             12\n"
     ]
    }
   ],
   "source": [
    "# Imagine you're a real estate agent for pandas.\n",
    "# You want to give them apartments where each column is a room, and each row is a panda tenant.\n",
    "import pandas as pd\n",
    "\n",
    "data = {\n",
    "    'Name': ['Pandy', 'Bamboo', 'Fuzzy'],\n",
    "    'Age': [5, 7, 4],\n",
    "    'Bamboo_Sticks': [15, 20, 12]\n",
    "}\n",
    "\n",
    "df = pd.DataFrame(data)\n",
    "print(df)"
   ]
  },
  {
   "cell_type": "code",
   "execution_count": 2,
   "id": "2f4b42a0-558b-4789-b959-b3a6725cedda",
   "metadata": {},
   "outputs": [
    {
     "data": {
      "text/html": [
       "<div>\n",
       "<style scoped>\n",
       "    .dataframe tbody tr th:only-of-type {\n",
       "        vertical-align: middle;\n",
       "    }\n",
       "\n",
       "    .dataframe tbody tr th {\n",
       "        vertical-align: top;\n",
       "    }\n",
       "\n",
       "    .dataframe thead th {\n",
       "        text-align: right;\n",
       "    }\n",
       "</style>\n",
       "<table border=\"1\" class=\"dataframe\">\n",
       "  <thead>\n",
       "    <tr style=\"text-align: right;\">\n",
       "      <th></th>\n",
       "      <th>Name</th>\n",
       "      <th>Age</th>\n",
       "      <th>Bamboo_Sticks</th>\n",
       "    </tr>\n",
       "  </thead>\n",
       "  <tbody>\n",
       "    <tr>\n",
       "      <th>0</th>\n",
       "      <td>Pandy</td>\n",
       "      <td>5</td>\n",
       "      <td>15</td>\n",
       "    </tr>\n",
       "    <tr>\n",
       "      <th>2</th>\n",
       "      <td>Fuzzy</td>\n",
       "      <td>4</td>\n",
       "      <td>12</td>\n",
       "    </tr>\n",
       "  </tbody>\n",
       "</table>\n",
       "</div>"
      ],
      "text/plain": [
       "    Name  Age  Bamboo_Sticks\n",
       "0  Pandy    5             15\n",
       "2  Fuzzy    4             12"
      ]
     },
     "execution_count": 2,
     "metadata": {},
     "output_type": "execute_result"
    }
   ],
   "source": [
    "# Topic 3: Filtering Data – “Who's Too Old for Daycare?”\n",
    "# We only want the younger pandas (under 6) for our daycare.\n",
    "df[df['Age'] < 6]\n"
   ]
  },
  {
   "cell_type": "code",
   "execution_count": 5,
   "id": "6a1e2995-9a7a-4077-a7fb-ee66b898f696",
   "metadata": {},
   "outputs": [
    {
     "name": "stdout",
     "output_type": "stream",
     "text": [
      "     Name  Age  Bamboo_Sticks      Job\n",
      "0   Pandy    6             15   Intern\n",
      "1  Bamboo    7             20  Manager\n",
      "2   Fuzzy    4             12   Intern\n"
     ]
    }
   ],
   "source": [
    "# Every panda gets a new job title based on age. Because they’re responsible now.\n",
    "df['Job'] = ['Intern', 'Manager', 'Intern']\n",
    "print(df)"
   ]
  },
  {
   "cell_type": "code",
   "execution_count": 6,
   "id": "e17be51c-d944-4430-a452-a020e8d28580",
   "metadata": {},
   "outputs": [
    {
     "name": "stdout",
     "output_type": "stream",
     "text": [
      "     Name  Age  Bamboo_Sticks      Job\n",
      "0   Pandy    6             15   Intern\n",
      "1  Bamboo    7             20  Manager\n",
      "2   Fuzzy    4             12   Intern\n"
     ]
    }
   ],
   "source": [
    "# Turns out, Pandy is actually 6, not 5. Classic Pandy.\n",
    "df.loc[df['Name'] == 'Pandy', 'Age'] = 6\n",
    "print(df)"
   ]
  },
  {
   "cell_type": "code",
   "execution_count": 7,
   "id": "61eea3eb-f9a2-4891-b502-523cb2bf4335",
   "metadata": {},
   "outputs": [
    {
     "name": "stdout",
     "output_type": "stream",
     "text": [
      "     Name  Age      Job\n",
      "0   Pandy    6   Intern\n",
      "1  Bamboo    7  Manager\n",
      "2   Fuzzy    4   Intern\n"
     ]
    }
   ],
   "source": [
    "# Pandas unionized and now refuse to report bamboo consumption.\n",
    "df = df.drop('Bamboo_Sticks', axis=1)\n",
    "print(df)"
   ]
  },
  {
   "cell_type": "code",
   "execution_count": 8,
   "id": "65c724f5-9720-41f9-9b8a-b93af80e4d61",
   "metadata": {},
   "outputs": [
    {
     "name": "stdout",
     "output_type": "stream",
     "text": [
      "     Name  Age  Bamboo_Sticks\n",
      "a   Pandy    5             15\n",
      "b  Bamboo    7             20\n",
      "c   Fuzzy    4             12\n",
      "d  Fluffy    6             18\n"
     ]
    },
    {
     "data": {
      "text/plain": [
       "Name             Bamboo\n",
       "Age                   7\n",
       "Bamboo_Sticks        20\n",
       "Name: b, dtype: object"
      ]
     },
     "execution_count": 8,
     "metadata": {},
     "output_type": "execute_result"
    }
   ],
   "source": [
    "# Indexer\tMeaning\tThink of it as\n",
    "# loc\tLabel-based selection\t\"Give me the data from the label ‘Row 2’ and column ‘Name’\"\n",
    "# iloc\tInteger position-based selection\t\"Give me the data from the 2nd row and 0th column\"\n",
    "\n",
    "\n",
    "import pandas as pd\n",
    "\n",
    "# Create a sample DataFrame\n",
    "df = pd.DataFrame({\n",
    "    'Name': ['Pandy', 'Bamboo', 'Fuzzy', 'Fluffy'],\n",
    "    'Age': [5, 7, 4, 6],\n",
    "    'Bamboo_Sticks': [15, 20, 12, 18]\n",
    "}, index=['a', 'b', 'c', 'd'])\n",
    "\n",
    "print(df)\n",
    "\n",
    "\n",
    "# Get row with label 'b'\n",
    "df.loc['b']"
   ]
  },
  {
   "cell_type": "code",
   "execution_count": 9,
   "id": "c79bc3b9-7bc1-4b29-bf31-e45e6e62fe85",
   "metadata": {},
   "outputs": [
    {
     "data": {
      "text/html": [
       "<div>\n",
       "<style scoped>\n",
       "    .dataframe tbody tr th:only-of-type {\n",
       "        vertical-align: middle;\n",
       "    }\n",
       "\n",
       "    .dataframe tbody tr th {\n",
       "        vertical-align: top;\n",
       "    }\n",
       "\n",
       "    .dataframe thead th {\n",
       "        text-align: right;\n",
       "    }\n",
       "</style>\n",
       "<table border=\"1\" class=\"dataframe\">\n",
       "  <thead>\n",
       "    <tr style=\"text-align: right;\">\n",
       "      <th></th>\n",
       "      <th>Name</th>\n",
       "      <th>Age</th>\n",
       "    </tr>\n",
       "  </thead>\n",
       "  <tbody>\n",
       "    <tr>\n",
       "      <th>a</th>\n",
       "      <td>Pandy</td>\n",
       "      <td>5</td>\n",
       "    </tr>\n",
       "    <tr>\n",
       "      <th>c</th>\n",
       "      <td>Fuzzy</td>\n",
       "      <td>4</td>\n",
       "    </tr>\n",
       "  </tbody>\n",
       "</table>\n",
       "</div>"
      ],
      "text/plain": [
       "    Name  Age\n",
       "a  Pandy    5\n",
       "c  Fuzzy    4"
      ]
     },
     "execution_count": 9,
     "metadata": {},
     "output_type": "execute_result"
    }
   ],
   "source": [
    "# Example 2: Get Name and Age of rows 'a' and 'c'\n",
    "df.loc[['a', 'c'], ['Name', 'Age']]\n"
   ]
  },
  {
   "cell_type": "code",
   "execution_count": 10,
   "id": "d160e99c-4fc2-4e92-9809-e1abf2edc578",
   "metadata": {},
   "outputs": [
    {
     "data": {
      "text/plain": [
       "Name             Pandy\n",
       "Age                  5\n",
       "Bamboo_Sticks       15\n",
       "Name: a, dtype: object"
      ]
     },
     "execution_count": 10,
     "metadata": {},
     "output_type": "execute_result"
    }
   ],
   "source": [
    "# Get first row (index position 0)\n",
    "df.iloc[0]\n"
   ]
  },
  {
   "cell_type": "code",
   "execution_count": 11,
   "id": "b5cac293-a536-4f39-9e67-f6f0dd23efa2",
   "metadata": {},
   "outputs": [
    {
     "data": {
      "text/html": [
       "<div>\n",
       "<style scoped>\n",
       "    .dataframe tbody tr th:only-of-type {\n",
       "        vertical-align: middle;\n",
       "    }\n",
       "\n",
       "    .dataframe tbody tr th {\n",
       "        vertical-align: top;\n",
       "    }\n",
       "\n",
       "    .dataframe thead th {\n",
       "        text-align: right;\n",
       "    }\n",
       "</style>\n",
       "<table border=\"1\" class=\"dataframe\">\n",
       "  <thead>\n",
       "    <tr style=\"text-align: right;\">\n",
       "      <th></th>\n",
       "      <th>Name</th>\n",
       "      <th>Age</th>\n",
       "    </tr>\n",
       "  </thead>\n",
       "  <tbody>\n",
       "    <tr>\n",
       "      <th>a</th>\n",
       "      <td>Pandy</td>\n",
       "      <td>5</td>\n",
       "    </tr>\n",
       "    <tr>\n",
       "      <th>b</th>\n",
       "      <td>Bamboo</td>\n",
       "      <td>7</td>\n",
       "    </tr>\n",
       "  </tbody>\n",
       "</table>\n",
       "</div>"
      ],
      "text/plain": [
       "     Name  Age\n",
       "a   Pandy    5\n",
       "b  Bamboo    7"
      ]
     },
     "execution_count": 11,
     "metadata": {},
     "output_type": "execute_result"
    }
   ],
   "source": [
    "# Get first two rows and first two columns\n",
    "df.iloc[0:2, 0:2]"
   ]
  },
  {
   "cell_type": "code",
   "execution_count": 15,
   "id": "0c20f30a-6651-4094-a4f2-27a60b090170",
   "metadata": {},
   "outputs": [],
   "source": [
    "df = pd.read_json('test.json')\n",
    "\n",
    "\n",
    "df.to_csv('output.csv', index=False)\n",
    "df.to_excel('output.xlsx', index=False)\n",
    "df.to_json('output.json', orient='records', lines=True)"
   ]
  },
  {
   "cell_type": "code",
   "execution_count": 16,
   "id": "2f01afe3-ae29-4659-9315-e489af845243",
   "metadata": {},
   "outputs": [
    {
     "name": "stdout",
     "output_type": "stream",
     "text": [
      "   Duration  Pulse\n",
      "0        60    110\n",
      "1        60    117\n",
      "2        60    103\n",
      "3        45    109\n",
      "4        45    117\n",
      "5        60    102\n"
     ]
    }
   ],
   "source": [
    "df = df[['Duration', 'Pulse']]\n",
    "print(df)"
   ]
  },
  {
   "cell_type": "code",
   "execution_count": 18,
   "id": "3b339393-a074-4e51-a5d3-6a880aa15d20",
   "metadata": {},
   "outputs": [
    {
     "name": "stdout",
     "output_type": "stream",
     "text": [
      "   Duration  Pulse\n",
      "0        60    110\n",
      "1        60    117\n"
     ]
    }
   ],
   "source": [
    "df = df[(df['Duration'] >50) & (df['Pulse'] >105)]\n",
    "print(df)"
   ]
  },
  {
   "cell_type": "code",
   "execution_count": 19,
   "id": "45025aa7-bd2e-4f88-8a03-e4fb8b51f068",
   "metadata": {},
   "outputs": [
    {
     "name": "stdout",
     "output_type": "stream",
     "text": [
      "   ID   Name     Hobby\n",
      "0   1  Pandy  Climbing\n",
      "1   2  Fuzzy  Sleeping\n"
     ]
    }
   ],
   "source": [
    "# Think: SQL-style joins. Match rows based on common columns.\n",
    "import pandas as pd\n",
    "\n",
    "left = pd.DataFrame({\n",
    "    'ID': [1, 2, 3],\n",
    "    'Name': ['Pandy', 'Fuzzy', 'Bamboo']\n",
    "})\n",
    "\n",
    "right = pd.DataFrame({\n",
    "    'ID': [1, 2, 4],\n",
    "    'Hobby': ['Climbing', 'Sleeping', 'Eating']\n",
    "})\n",
    "\n",
    "\n",
    "# Merge on common column ID\n",
    "merged = pd.merge(left, right, on='ID', how='inner')\n",
    "print(merged)"
   ]
  },
  {
   "cell_type": "code",
   "execution_count": 20,
   "id": "ffdb6f0b-944d-45a5-823c-82f136a7ddb9",
   "metadata": {},
   "outputs": [
    {
     "name": "stdout",
     "output_type": "stream",
     "text": [
      "     Name  Age\n",
      "0   Pandy    5\n",
      "1   Fuzzy    6\n",
      "2  Fluffy    4\n"
     ]
    }
   ],
   "source": [
    "# Vertical stacking (one on top of another)\n",
    "df1 = pd.DataFrame({'Name': ['Pandy', 'Fuzzy'], 'Age': [5, 6]})\n",
    "df2 = pd.DataFrame({'Name': ['Fluffy'], 'Age': [4]})\n",
    "\n",
    "result = pd.concat([df1, df2], ignore_index=True)\n",
    "print(result)\n"
   ]
  },
  {
   "cell_type": "code",
   "execution_count": 21,
   "id": "fcb52efe-7469-4513-ad4c-a6d7e38504b7",
   "metadata": {},
   "outputs": [
    {
     "name": "stdout",
     "output_type": "stream",
     "text": [
      "   A  B\n",
      "0  1  X\n",
      "1  2  Y\n"
     ]
    }
   ],
   "source": [
    "# Example 2: Horizontal stacking (side-by-side)\n",
    "df3 = pd.DataFrame({'A': [1, 2]})\n",
    "df4 = pd.DataFrame({'B': ['X', 'Y']})\n",
    "\n",
    "result = pd.concat([df3, df4], axis=1)\n",
    "print(result)\n"
   ]
  },
  {
   "cell_type": "code",
   "execution_count": null,
   "id": "857119dc-a2b1-4c49-bf22-a49b3af4dac6",
   "metadata": {},
   "outputs": [],
   "source": []
  },
  {
   "cell_type": "code",
   "execution_count": null,
   "id": "6398b165-0ceb-4d63-a89b-4e7c7f957f4c",
   "metadata": {},
   "outputs": [],
   "source": []
  },
  {
   "cell_type": "code",
   "execution_count": null,
   "id": "0a2f7240-0891-420c-ba6c-d34f54873e40",
   "metadata": {},
   "outputs": [],
   "source": []
  }
 ],
 "metadata": {
  "kernelspec": {
   "display_name": "Python 3 (ipykernel)",
   "language": "python",
   "name": "python3"
  },
  "language_info": {
   "codemirror_mode": {
    "name": "ipython",
    "version": 3
   },
   "file_extension": ".py",
   "mimetype": "text/x-python",
   "name": "python",
   "nbconvert_exporter": "python",
   "pygments_lexer": "ipython3",
   "version": "3.12.3"
  }
 },
 "nbformat": 4,
 "nbformat_minor": 5
}
