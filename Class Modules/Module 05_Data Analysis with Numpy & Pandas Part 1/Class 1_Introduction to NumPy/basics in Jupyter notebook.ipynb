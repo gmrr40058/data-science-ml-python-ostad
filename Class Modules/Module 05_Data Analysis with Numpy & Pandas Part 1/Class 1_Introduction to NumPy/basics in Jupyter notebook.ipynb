{
 "cells": [
  {
   "cell_type": "code",
   "execution_count": 1,
   "id": "648ba836-e6d4-49db-9aee-6339c9273e3e",
   "metadata": {},
   "outputs": [
    {
     "name": "stdout",
     "output_type": "stream",
     "text": [
      "[1, 2, 3, 4, 5, 6]\n"
     ]
    }
   ],
   "source": [
    "list1 = [1, 2, 3]\n",
    "list2 = [4, 5, 6]\n",
    "print(list1 + list2)"
   ]
  },
  {
   "cell_type": "code",
   "execution_count": 2,
   "id": "a058dfca-147f-41b6-a41f-a7510b2de1e2",
   "metadata": {},
   "outputs": [
    {
     "name": "stdout",
     "output_type": "stream",
     "text": [
      "[5 7 9]\n"
     ]
    }
   ],
   "source": [
    "import numpy as np\n",
    "arr1 = np.array([1, 2, 3])\n",
    "arr2 = np.array([4, 5, 6])\n",
    "\n",
    "print(arr1 + arr2)"
   ]
  },
  {
   "cell_type": "code",
   "execution_count": 3,
   "id": "fd0e3401-61f6-44e3-b9e2-17f41ad54822",
   "metadata": {},
   "outputs": [
    {
     "name": "stdout",
     "output_type": "stream",
     "text": [
      "['cheese' 'bbq' 'veg' 'spicy']\n"
     ]
    }
   ],
   "source": [
    "menu = np.array(['cheese', 'bbq', 'veg', 'spicy'])\n",
    "print(menu)"
   ]
  },
  {
   "cell_type": "code",
   "execution_count": 5,
   "id": "037d8ae6-121e-48e6-bb9e-b56405aa5e5c",
   "metadata": {},
   "outputs": [
    {
     "ename": "TypeError",
     "evalue": "can't multiply sequence by non-int of type 'float'",
     "output_type": "error",
     "traceback": [
      "\u001b[1;31m---------------------------------------------------------------------------\u001b[0m",
      "\u001b[1;31mTypeError\u001b[0m                                 Traceback (most recent call last)",
      "Cell \u001b[1;32mIn[5], line 2\u001b[0m\n\u001b[0;32m      1\u001b[0m prices \u001b[38;5;241m=\u001b[39m [\u001b[38;5;241m100\u001b[39m, \u001b[38;5;241m200\u001b[39m, \u001b[38;5;241m150\u001b[39m, \u001b[38;5;241m220\u001b[39m]\n\u001b[1;32m----> 2\u001b[0m prices \u001b[38;5;241m=\u001b[39m \u001b[43mprices\u001b[49m\u001b[43m \u001b[49m\u001b[38;5;241;43m*\u001b[39;49m\u001b[43m \u001b[49m\u001b[38;5;241;43m0.8\u001b[39;49m\n\u001b[0;32m      3\u001b[0m \u001b[38;5;28mprint\u001b[39m(prices)\n",
      "\u001b[1;31mTypeError\u001b[0m: can't multiply sequence by non-int of type 'float'"
     ]
    }
   ],
   "source": [
    "prices = [100, 200, 150, 220]\n",
    "prices = prices * 0.8\n",
    "print(prices)"
   ]
  },
  {
   "cell_type": "code",
   "execution_count": 8,
   "id": "581fea33-fac5-4b43-95c3-ebbfff0b4740",
   "metadata": {},
   "outputs": [
    {
     "data": {
      "text/plain": [
       "array([ 80.64, 160.  , 120.  , 176.  ])"
      ]
     },
     "execution_count": 8,
     "metadata": {},
     "output_type": "execute_result"
    }
   ],
   "source": [
    "prices_np = np.array([100.8, 200, 150, 220])\n",
    "discounted_price = prices_np * 0.8\n",
    "discounted_price"
   ]
  },
  {
   "cell_type": "code",
   "execution_count": 11,
   "id": "402466b8-8aa2-439e-84e1-3b6be063995e",
   "metadata": {},
   "outputs": [
    {
     "name": "stdout",
     "output_type": "stream",
     "text": [
      "[[0. 0. 0.]\n",
      " [0. 0. 0.]\n",
      " [0. 0. 0.]]\n"
     ]
    }
   ],
   "source": [
    "empty_table = np.zeros((3, 3))\n",
    "print(empty_table)"
   ]
  },
  {
   "cell_type": "code",
   "execution_count": 12,
   "id": "17acc226-7694-4c0e-923c-dfb25b3978a8",
   "metadata": {},
   "outputs": [
    {
     "name": "stdout",
     "output_type": "stream",
     "text": [
      "[[1. 1. 1.]\n",
      " [1. 1. 1.]\n",
      " [1. 1. 1.]]\n"
     ]
    }
   ],
   "source": [
    "empty_table = np.ones((3, 3))\n",
    "print(empty_table)"
   ]
  },
  {
   "cell_type": "code",
   "execution_count": 14,
   "id": "040ff3d1-5ee8-479b-be65-9b6f4604a76a",
   "metadata": {},
   "outputs": [
    {
     "name": "stdout",
     "output_type": "stream",
     "text": [
      "BBQ boxes:\n",
      " [['bbq' 'bbq' 'bbq']\n",
      " ['bbq' 'bbq' 'bbq']]\n"
     ]
    }
   ],
   "source": [
    "bbq_boxes = np.full((2,3), 'bbq')\n",
    "print(\"BBQ boxes:\\n\", bbq_boxes)"
   ]
  },
  {
   "cell_type": "code",
   "execution_count": 17,
   "id": "1cb692f8-223c-4fc0-962c-fd8b6665f537",
   "metadata": {},
   "outputs": [
    {
     "name": "stdout",
     "output_type": "stream",
     "text": [
      "[[0.23443124 0.63223564 0.67499454]\n",
      " [0.49846459 0.96481695 0.21116871]]\n"
     ]
    }
   ],
   "source": [
    "surprise_toppings = np.random.rand(2,3)\n",
    "print(surprise_toppings)"
   ]
  },
  {
   "cell_type": "code",
   "execution_count": 24,
   "id": "44d0af54-999b-4d70-be54-3f7d2de213ca",
   "metadata": {},
   "outputs": [
    {
     "name": "stdout",
     "output_type": "stream",
     "text": [
      "[[1 6 1]\n",
      " [2 1 5]]\n"
     ]
    }
   ],
   "source": [
    "kids_orders = np.random.randint(1, 8, (2, 3))\n",
    "print(kids_orders)"
   ]
  },
  {
   "cell_type": "code",
   "execution_count": 26,
   "id": "43eec9a7-8fa8-4db3-aa1f-19f18ac90929",
   "metadata": {},
   "outputs": [
    {
     "name": "stdout",
     "output_type": "stream",
     "text": [
      "[[1. 0. 0. 0.]\n",
      " [0. 1. 0. 0.]\n",
      " [0. 0. 1. 0.]\n",
      " [0. 0. 0. 1.]]\n"
     ]
    }
   ],
   "source": [
    "signature_pizzas = np.identity(4)\n",
    "print(signature_pizzas)"
   ]
  },
  {
   "cell_type": "code",
   "execution_count": 30,
   "id": "f219127a-894a-45b4-8181-abecfae5a425",
   "metadata": {},
   "outputs": [
    {
     "name": "stdout",
     "output_type": "stream",
     "text": [
      "[ 0 15 30 45 60]\n"
     ]
    }
   ],
   "source": [
    "delivery_times = np.arange(0, 70, 15)\n",
    "print(delivery_times)"
   ]
  },
  {
   "cell_type": "code",
   "execution_count": 29,
   "id": "4cf771c9-2abf-4108-b876-038665350cd8",
   "metadata": {},
   "outputs": [
    {
     "name": "stdout",
     "output_type": "stream",
     "text": [
      "[ 0.  17.5 35.  52.5 70. ]\n"
     ]
    }
   ],
   "source": [
    "cooking_shifts = np.linspace(0, 70, 5)\n",
    "print(cooking_shifts)"
   ]
  },
  {
   "cell_type": "code",
   "execution_count": 41,
   "id": "5ecb80ee-9f76-4774-916d-620e3e0b736e",
   "metadata": {},
   "outputs": [
    {
     "name": "stdout",
     "output_type": "stream",
     "text": [
      "spicy\n",
      "['cheese' 'veg']\n",
      "4\n"
     ]
    }
   ],
   "source": [
    "orders = np.array(['cheese', 'veg', 'spicy', 'bbq'])\n",
    "print(orders[2])\n",
    "print(orders[:2])\n",
    "print(len(orders))"
   ]
  },
  {
   "cell_type": "code",
   "execution_count": 43,
   "id": "c785ec78-ba90-4e25-83a5-829f42e61192",
   "metadata": {},
   "outputs": [
    {
     "name": "stdout",
     "output_type": "stream",
     "text": [
      "veg\n"
     ]
    }
   ],
   "source": [
    "orders = np.array([\n",
    "    ['cheese', 'veg'],\n",
    "    ['spicy', 'bbq']\n",
    "])\n",
    "print(orders[0,1])"
   ]
  },
  {
   "cell_type": "code",
   "execution_count": 63,
   "id": "ed06b277-f1a5-48d6-bdbb-5566fae7fa0c",
   "metadata": {},
   "outputs": [
    {
     "name": "stdout",
     "output_type": "stream",
     "text": [
      "['cheese' 'spicy']\n"
     ]
    }
   ],
   "source": [
    "print(orders[:2,0])"
   ]
  },
  {
   "cell_type": "code",
   "execution_count": 67,
   "id": "0c8b3f2b-063e-4c4a-a730-1ae27498c7da",
   "metadata": {},
   "outputs": [
    {
     "name": "stdout",
     "output_type": "stream",
     "text": [
      "Max sales 200\n",
      "Max seller index 3\n",
      "Min sales 90\n",
      "Min seller index 2\n"
     ]
    }
   ],
   "source": [
    "sales = np.array([120, 150, 90, 200])\n",
    "print(\"Max sales\", np.max(sales))\n",
    "print(\"Max seller index\", np.argmax(sales))\n",
    "print(\"Min sales\", np.min(sales))\n",
    "print(\"Min seller index\", np.argmin(sales))"
   ]
  },
  {
   "cell_type": "code",
   "execution_count": null,
   "id": "7b4f826a-330a-43b1-bf0e-f3ce339dbace",
   "metadata": {},
   "outputs": [],
   "source": []
  },
  {
   "cell_type": "code",
   "execution_count": null,
   "id": "43c45e63-b2e9-408a-b35b-6fb968ed06d9",
   "metadata": {},
   "outputs": [],
   "source": []
  },
  {
   "cell_type": "code",
   "execution_count": null,
   "id": "2131c65a-75d3-4e62-b093-4c128ffb1bde",
   "metadata": {},
   "outputs": [],
   "source": []
  }
 ],
 "metadata": {
  "kernelspec": {
   "display_name": "Python 3 (ipykernel)",
   "language": "python",
   "name": "python3"
  },
  "language_info": {
   "codemirror_mode": {
    "name": "ipython",
    "version": 3
   },
   "file_extension": ".py",
   "mimetype": "text/x-python",
   "name": "python",
   "nbconvert_exporter": "python",
   "pygments_lexer": "ipython3",
   "version": "3.12.3"
  }
 },
 "nbformat": 4,
 "nbformat_minor": 5
}
