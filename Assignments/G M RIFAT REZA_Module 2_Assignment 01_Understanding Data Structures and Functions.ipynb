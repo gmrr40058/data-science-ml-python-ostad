{
 "cells": [
  {
   "cell_type": "markdown",
   "id": "2fa202b6",
   "metadata": {},
   "source": [
    "#### Assignment: 01 Understanding Data Structures and Functions"
   ]
  },
  {
   "cell_type": "markdown",
   "id": "589cdf68",
   "metadata": {},
   "source": [
    "**Problem: 01**\n",
    "\n",
    "Write a function that takes two numbers as input and returns their average. Call the function with different values."
   ]
  },
  {
   "cell_type": "code",
   "execution_count": 1,
   "id": "59c8a9bf",
   "metadata": {},
   "outputs": [
    {
     "name": "stdout",
     "output_type": "stream",
     "text": [
      "Average of 10 and 20 is: 15.0\n",
      "Average of 12.7 and 4.6 is: 8.649999999999999\n",
      "Average of -19 and 19 is: 0.0\n"
     ]
    }
   ],
   "source": [
    "def average_two_numbers(num1, num2):\n",
    "    # This function takes two numbers as input and returns their average.\n",
    "    return (num1 + num2) / 2\n",
    "\n",
    "print(\"Average of 10 and 20 is:\", average_two_numbers(10, 20))\n",
    "print(\"Average of 12.7 and 4.6 is:\", average_two_numbers(12.7, 4.6))\n",
    "print(\"Average of -19 and 19 is:\", average_two_numbers(-19, 19))"
   ]
  },
  {
   "cell_type": "markdown",
   "id": "6d8007a7",
   "metadata": {},
   "source": [
    "**Problem: 02**\n",
    "\n",
    "Write a function that sorts a list of strings alphabetically. \n",
    "\n",
    "[\"apple\", \"banana\", \"cherry\", \"kiwi\", \"grape\"]"
   ]
  },
  {
   "cell_type": "code",
   "execution_count": null,
   "id": "9c651d79",
   "metadata": {},
   "outputs": [
    {
     "name": "stdout",
     "output_type": "stream",
     "text": [
      "Before sorting: ['grape', 'cherry', 'apple', 'kiwi', 'banana']\n",
      "After sorting: ['apple', 'banana', 'cherry', 'grape', 'kiwi']\n"
     ]
    }
   ],
   "source": [
    "def sort_list_alphabetically(listOfStrings):\n",
    "   # This function takes a list of strings and returns it sorted in alphabetical order.\n",
    "    return sorted(listOfStrings)\n",
    "\n",
    "my_list = [\"grape\", \"cherry\", \"apple\", \"kiwi\", \"banana\"]\n",
    "print(\"Before sorting:\", my_list)\n",
    "sorted_list = sort_list_alphabetically(my_list)\n",
    "print(\"After sorting:\", sorted_list)"
   ]
  },
  {
   "cell_type": "markdown",
   "id": "180411cd",
   "metadata": {},
   "source": [
    "**Problem: 03**\n",
    "\n",
    "Write a Python program that creates a new list containing only the duplicate elements from the given list: [1, 5, 6, 5, 1, 2, 3]."
   ]
  },
  {
   "cell_type": "code",
   "execution_count": 3,
   "id": "5293cf14",
   "metadata": {},
   "outputs": [
    {
     "name": "stdout",
     "output_type": "stream",
     "text": [
      "Duplicates in the list: [5, 1]\n"
     ]
    }
   ],
   "source": [
    "num_list = [1, 5, 6, 5, 1, 2, 3]\n",
    "duplicates_list = []\n",
    "already_gotten = []\n",
    "for number in num_list:\n",
    "    if number in  already_gotten:\n",
    "        if number not in duplicates_list:\n",
    "            duplicates_list.append(number)\n",
    "    else:\n",
    "        already_gotten.append(number)\n",
    "print(\"Duplicates in the list:\", duplicates_list)"
   ]
  }
 ],
 "metadata": {
  "kernelspec": {
   "display_name": "Python 3",
   "language": "python",
   "name": "python3"
  },
  "language_info": {
   "codemirror_mode": {
    "name": "ipython",
    "version": 3
   },
   "file_extension": ".py",
   "mimetype": "text/x-python",
   "name": "python",
   "nbconvert_exporter": "python",
   "pygments_lexer": "ipython3",
   "version": "3.13.3"
  }
 },
 "nbformat": 4,
 "nbformat_minor": 5
}
