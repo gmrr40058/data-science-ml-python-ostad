{
 "cells": [
  {
   "cell_type": "markdown",
   "id": "ab4b8d03",
   "metadata": {},
   "source": [
    "**Advanced-Data Structures and Comparison**\n",
    "\n",
    "Write a Python program that takes two sets from the user and computes their union, intersection, and difference.\n",
    "\n",
    "A = {1, 2, 3, 4, 5}<br>\n",
    "B = {4, 5, 6, 7, 8}"
   ]
  },
  {
   "cell_type": "code",
   "execution_count": 3,
   "id": "1643aaa3",
   "metadata": {},
   "outputs": [
    {
     "name": "stdout",
     "output_type": "stream",
     "text": [
      "Set 1: {1, 2, 3, 4, 5}\n",
      "Set 2: {4, 5, 6, 7, 8}\n",
      "Union of Set A and Set B: {1, 2, 3, 4, 5, 6, 7, 8}\n",
      "Intersection of Set A and Set B: {4, 5}\n",
      "Difference of Set A from Set B: {1, 2, 3}\n",
      "Difference of Set B from Set A: {8, 6, 7}\n"
     ]
    }
   ],
   "source": [
    "import ast \n",
    "\n",
    "# This code takes two sets as input from the user and prints them.\n",
    "# make sure to input sets in the proper format like {1, 2, 3}\n",
    "A = input(\"Enter your first set: \") # Asking the first set input (e.g., \"{1, 2, 3}\" from user)\n",
    "A = ast.literal_eval(A) #Convert string input to set\n",
    "B = ast.literal_eval(input(\"Enter your second set: \")) # Taking the second set input and converting to set type together\n",
    "\n",
    "# Printing the sets\n",
    "print(\"Set 1:\", A)\n",
    "print(\"Set 2:\", B)\n",
    "\n",
    "# Operations\n",
    "union_of_set = A | B  # Union of sets\n",
    "intersection_of_set = A & B  # Intersection of sets\n",
    "difference_of_set_AB = A - B  # Difference of set A from set B\n",
    "difference_of_set_BA = B - A  # Difference of set B from set A\n",
    "\n",
    "# Printing the results of the operations\n",
    "print(\"Union of Set A and Set B:\", union_of_set)\n",
    "print(\"Intersection of Set A and Set B:\", intersection_of_set)\n",
    "print(\"Difference of Set A from Set B:\", difference_of_set_AB)\n",
    "print(\"Difference of Set B from Set A:\", difference_of_set_BA)"
   ]
  }
 ],
 "metadata": {
  "kernelspec": {
   "display_name": "base",
   "language": "python",
   "name": "python3"
  },
  "language_info": {
   "codemirror_mode": {
    "name": "ipython",
    "version": 3
   },
   "file_extension": ".py",
   "mimetype": "text/x-python",
   "name": "python",
   "nbconvert_exporter": "python",
   "pygments_lexer": "ipython3",
   "version": "3.13.5"
  }
 },
 "nbformat": 4,
 "nbformat_minor": 5
}
