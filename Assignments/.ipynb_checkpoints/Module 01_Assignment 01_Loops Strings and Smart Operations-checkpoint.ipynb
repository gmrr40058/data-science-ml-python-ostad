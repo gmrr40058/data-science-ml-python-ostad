{
 "cells": [
  {
   "cell_type": "markdown",
   "id": "72d2f6aa",
   "metadata": {},
   "source": [
    "**Problem: 01**\n",
    "\n",
    "Write a Python program that takes a number as input and checks whether it is even or odd."
   ]
  },
  {
   "cell_type": "code",
   "execution_count": null,
   "id": "9efec4a5",
   "metadata": {},
   "outputs": [
    {
     "name": "stdout",
     "output_type": "stream",
     "text": [
      "The nember is Odd\n"
     ]
    }
   ],
   "source": [
    "number = int(input(\"Enter a number: \")) # Taking input from the user\n",
    "\n",
    "# Check if the number is even or odd\n",
    "print(f\"({number} is a even number\" if number % 2 == 0 else f\"({number} is a odd number\") # Using a conditional expression(ternary operator) to determine if the number is even or odd."
   ]
  },
  {
   "cell_type": "markdown",
   "id": "730ba2e5",
   "metadata": {},
   "source": [
    "**Problem: 02**\n",
    "\n",
    " Write a program that takes two numbers and an operator (+, -, *, /) and performs the calculation."
   ]
  },
  {
   "cell_type": "code",
   "execution_count": null,
   "id": "768049b4",
   "metadata": {},
   "outputs": [
    {
     "name": "stdout",
     "output_type": "stream",
     "text": [
      "10 + 20 = 30\n"
     ]
    }
   ],
   "source": [
    "#Pleade don't forget to put a whitespace after every input. I have tried to keep the input like a calculator.\n",
    "# This program performs basic arithmetic operations (+, -, *, /) on two integers.\n",
    "# It takes three inputs from the user: two integers and an operator.\n",
    "number1, operator, number2 = input(\"Enter 'number1' space 'operator (+,-,*,/)' space 'number2': \").split() #Taking three input togrther from the user. \n",
    "number1, number2 = map(int, (number1, number2)) # Converting string inputs to integers\n",
    "# The programe will run calculations on integer inputs only. Float inpput wll automatically be converted to integer.\n",
    "flag = True # Flag to check if the operator is valid\n",
    "\n",
    "if operator == \"+\":\n",
    "    total = number1 + number2 # Adding two numbers\n",
    "elif operator == \"-\":\n",
    "    total = number1 - number2 # Subtracting two numbers\n",
    "elif operator == \"*\":\n",
    "    total = number1 * number2 # Multiplying two numbers\n",
    "elif operator == \"/\":\n",
    "    total = number1 / number2 # Dividing two numbers\n",
    "else: \n",
    "    print(operator +\" is an invalid operator. Please enter + or - or * or / as an operator.\") # If the operator is not one of the above, return an error message\n",
    "    flag = False \n",
    "\n",
    "if flag: # If the flag is True, it means a valid operator was used.\n",
    "    print(\"%d %s %d = %s\" %(number1, operator, number2, total)) # Printing the result of the operation."
   ]
  },
  {
   "cell_type": "markdown",
   "id": "209ffd53",
   "metadata": {},
   "source": [
    "**Problem: 03**\n",
    "\n",
    "Write a program using a for loop that calculates the sum of even numbers **between** 1 and 100."
   ]
  },
  {
   "cell_type": "code",
   "execution_count": 9,
   "id": "a4b4ab30",
   "metadata": {},
   "outputs": [
    {
     "name": "stdout",
     "output_type": "stream",
     "text": [
      "The sum of even numbers between 1 and 100 is 2450\n"
     ]
    }
   ],
   "source": [
    "print(\"The sum of even numbers between 1 and 100 is\", sum(i for i in range(100) if i % 2 == 0)) \n",
    "#Step1: Usiing generator expression to generate even numbers between 0 and 100.\n",
    "#Step2: Using sum() function to calculate the sum of these even numbers.\n",
    "#Step3: Printing the result using print() function.\n",
    "\n",
    "#Note: Even numbers between 1 and 100 are 2, 4, 6, ..., 98 (Does not include 100)."
   ]
  },
  {
   "cell_type": "code",
   "execution_count": null,
   "id": "35c7014c",
   "metadata": {},
   "outputs": [],
   "source": []
  },
  {
   "cell_type": "code",
   "execution_count": null,
   "id": "5c96e9af",
   "metadata": {},
   "outputs": [],
   "source": []
  }
 ],
 "metadata": {
  "kernelspec": {
   "display_name": "Python 3",
   "language": "python",
   "name": "python3"
  },
  "language_info": {
   "codemirror_mode": {
    "name": "ipython",
    "version": 3
   },
   "file_extension": ".py",
   "mimetype": "text/x-python",
   "name": "python",
   "nbconvert_exporter": "python",
   "pygments_lexer": "ipython3",
   "version": "3.13.3"
  }
 },
 "nbformat": 4,
 "nbformat_minor": 5
}
