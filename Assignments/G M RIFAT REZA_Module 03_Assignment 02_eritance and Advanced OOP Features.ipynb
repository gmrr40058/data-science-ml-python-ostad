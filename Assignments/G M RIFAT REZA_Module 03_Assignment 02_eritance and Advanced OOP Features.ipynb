{
 "cells": [
  {
   "cell_type": "markdown",
   "id": "4bdbfaa7",
   "metadata": {},
   "source": [
    "#### Assignment: 02 Inheritance and Advanced OOP Features\n",
    "\n",
    "Create a base class Animal and a derived class Dog that inherits from Animal.\n",
    "\n",
    "Output: \n",
    "\n",
    "Animals make different sounds. # From Animal class\n",
    "\n",
    "Dog barks! # From Dog Clas"
   ]
  },
  {
   "cell_type": "code",
   "execution_count": 4,
   "id": "a2dd6782",
   "metadata": {},
   "outputs": [
    {
     "name": "stdout",
     "output_type": "stream",
     "text": [
      "Animals make different sounds. # From Animal class\n",
      "Dog barks! # From Dog Class\n"
     ]
    }
   ],
   "source": [
    "class Animal:\n",
    "    def animal_display(self):\n",
    "        print('Animals make different sounds. # From Animal class')\n",
    "        \n",
    "class Dog(Animal):\n",
    "    def dog_display(self):\n",
    "        print('Dog barks! # From Dog Class')\n",
    "        \n",
    "\n",
    "# Object creation and callling\n",
    "my_obj = Dog()\n",
    "my_obj.animal_display()\n",
    "my_obj.dog_display()"
   ]
  },
  {
   "cell_type": "code",
   "execution_count": null,
   "id": "7385842a",
   "metadata": {},
   "outputs": [],
   "source": []
  }
 ],
 "metadata": {
  "kernelspec": {
   "display_name": "Python 3",
   "language": "python",
   "name": "python3"
  },
  "language_info": {
   "codemirror_mode": {
    "name": "ipython",
    "version": 3
   },
   "file_extension": ".py",
   "mimetype": "text/x-python",
   "name": "python",
   "nbconvert_exporter": "python",
   "pygments_lexer": "ipython3",
   "version": "3.13.3"
  }
 },
 "nbformat": 4,
 "nbformat_minor": 5
}
